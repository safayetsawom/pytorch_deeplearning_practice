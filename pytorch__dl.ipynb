{
  "nbformat": 4,
  "nbformat_minor": 0,
  "metadata": {
    "colab": {
      "provenance": [],
      "gpuType": "T4",
      "authorship_tag": "ABX9TyN7h6LmBpS/Hl+ITDgKEX2h",
      "include_colab_link": true
    },
    "kernelspec": {
      "name": "python3",
      "display_name": "Python 3"
    },
    "language_info": {
      "name": "python"
    },
    "accelerator": "GPU"
  },
  "cells": [
    {
      "cell_type": "markdown",
      "metadata": {
        "id": "view-in-github",
        "colab_type": "text"
      },
      "source": [
        "<a href=\"https://colab.research.google.com/github/safayetsawom/pytorch_deeplearning_practice/blob/main/pytorch__dl.ipynb\" target=\"_parent\"><img src=\"https://colab.research.google.com/assets/colab-badge.svg\" alt=\"Open In Colab\"/></a>"
      ]
    },
    {
      "cell_type": "code",
      "execution_count": null,
      "metadata": {
        "id": "PEIEFV-rnwE7",
        "colab": {
          "base_uri": "https://localhost:8080/"
        },
        "outputId": "75e3052b-62e1-4df9-ee26-69913d4c43f4"
      },
      "outputs": [
        {
          "output_type": "stream",
          "name": "stdout",
          "text": [
            "tensor([[1, 2],\n",
            "        [3, 4]])\n",
            "[[1 2]\n",
            " [3 4]]\n",
            "[[1, 2], [3, 4]]\n"
          ]
        }
      ],
      "source": [
        "#tensors used as multi-dimensional matrix\n",
        "import torch\n",
        "import numpy as np\n",
        "data = [[1,2],[3,4]]\n",
        "x_data = torch.tensor(data)\n",
        "print(x_data)\n",
        "np_array = np.array(data)\n",
        "# x_np = torch.from_numpy(np_array)\n",
        "print(np_array)\n",
        "print(data)"
      ]
    },
    {
      "cell_type": "code",
      "source": [
        "np1=np.random.rand(2,4) #2 row and 4 column\n",
        "np2=np.random.rand(3,2,4)\n",
        "print(np1)\n",
        "print(\"----------------------------------\")\n",
        "print(np2)\n",
        "print(\"----------------------------------\")\n",
        "print(torch.randn(2,4))"
      ],
      "metadata": {
        "colab": {
          "base_uri": "https://localhost:8080/"
        },
        "id": "61NWw9DBuwbN",
        "outputId": "2437f171-7e8d-40df-f359-94bc69243724"
      },
      "execution_count": null,
      "outputs": [
        {
          "output_type": "stream",
          "name": "stdout",
          "text": [
            "[[0.14490339 0.21825624 0.65632829 0.0397975 ]\n",
            " [0.73751387 0.63763408 0.6614644  0.69687261]]\n",
            "----------------------------------\n",
            "[[[0.86223101 0.50328904 0.59010082 0.19944229]\n",
            "  [0.32823254 0.87614024 0.71352438 0.19777112]]\n",
            "\n",
            " [[0.29844281 0.58473411 0.84990886 0.2118064 ]\n",
            "  [0.89383008 0.82550705 0.16822605 0.46338569]]\n",
            "\n",
            " [[0.95023334 0.89196215 0.18396692 0.65528753]\n",
            "  [0.86645005 0.58351494 0.23628229 0.17183018]]]\n",
            "----------------------------------\n",
            "tensor([[-0.8224,  2.2238, -0.7454, -0.2964],\n",
            "        [-1.0978, -0.2372, -0.8483,  1.2948]])\n"
          ]
        }
      ]
    },
    {
      "cell_type": "code",
      "source": [
        "tensor3d=torch.zeros(2,3,4)\n",
        "print(tensor3d)"
      ],
      "metadata": {
        "colab": {
          "base_uri": "https://localhost:8080/"
        },
        "id": "O9shwG2GzOTV",
        "outputId": "2acecef4-5710-4e57-a3cb-88385c77343d"
      },
      "execution_count": null,
      "outputs": [
        {
          "output_type": "stream",
          "name": "stdout",
          "text": [
            "tensor([[[0., 0., 0., 0.],\n",
            "         [0., 0., 0., 0.],\n",
            "         [0., 0., 0., 0.]],\n",
            "\n",
            "        [[0., 0., 0., 0.],\n",
            "         [0., 0., 0., 0.],\n",
            "         [0., 0., 0., 0.]]])\n"
          ]
        }
      ]
    },
    {
      "cell_type": "markdown",
      "source": [
        "tensor operations\n"
      ],
      "metadata": {
        "id": "phNJ2kNt0I3_"
      }
    },
    {
      "cell_type": "code",
      "source": [
        "torch_1=torch.arange(10)\n",
        "torch_1"
      ],
      "metadata": {
        "colab": {
          "base_uri": "https://localhost:8080/"
        },
        "id": "4EcLzlN30Npc",
        "outputId": "80525e46-e472-47fa-c9c0-7162063dd3a8"
      },
      "execution_count": null,
      "outputs": [
        {
          "output_type": "execute_result",
          "data": {
            "text/plain": [
              "tensor([0, 1, 2, 3, 4, 5, 6, 7, 8, 9])"
            ]
          },
          "metadata": {},
          "execution_count": 5
        }
      ]
    },
    {
      "cell_type": "code",
      "source": [
        "torch_1=torch_1.reshape(2,5)\n",
        "torch_1"
      ],
      "metadata": {
        "colab": {
          "base_uri": "https://localhost:8080/"
        },
        "id": "EKl9owim1M8b",
        "outputId": "6f00e223-4cda-4a25-cea9-b7e26d35457e"
      },
      "execution_count": null,
      "outputs": [
        {
          "output_type": "execute_result",
          "data": {
            "text/plain": [
              "tensor([[0, 1, 2, 3, 4],\n",
              "        [5, 6, 7, 8, 9]])"
            ]
          },
          "metadata": {},
          "execution_count": 6
        }
      ]
    },
    {
      "cell_type": "code",
      "source": [
        "torch_1=torch_1.reshape(-1,5) #if i don't know how many array will occur then use -1\n",
        "torch_1"
      ],
      "metadata": {
        "colab": {
          "base_uri": "https://localhost:8080/"
        },
        "id": "OX-3iSYB1hCH",
        "outputId": "1402d14d-0c80-49cc-e75d-5bc36a3ce1cf"
      },
      "execution_count": null,
      "outputs": [
        {
          "output_type": "execute_result",
          "data": {
            "text/plain": [
              "tensor([[0, 1, 2, 3, 4],\n",
              "        [5, 6, 7, 8, 9]])"
            ]
          },
          "metadata": {},
          "execution_count": 7
        }
      ]
    },
    {
      "cell_type": "code",
      "source": [
        "torch_2=torch_1.reshape(2,5)\n",
        "print(torch_2)\n",
        "torch_3=torch_1.view(2,5)\n",
        "print(torch_3)"
      ],
      "metadata": {
        "colab": {
          "base_uri": "https://localhost:8080/"
        },
        "id": "4mwXgaH92TzN",
        "outputId": "5d9d71f8-6bec-4cd0-da76-d3072fd5a23a"
      },
      "execution_count": null,
      "outputs": [
        {
          "output_type": "stream",
          "name": "stdout",
          "text": [
            "tensor([[0, 1, 2, 3, 4],\n",
            "        [5, 6, 7, 8, 9]])\n",
            "tensor([[0, 1, 2, 3, 4],\n",
            "        [5, 6, 7, 8, 9]])\n"
          ]
        }
      ]
    },
    {
      "cell_type": "code",
      "source": [
        "import torch\n",
        "\n",
        "# Create a tensor\n",
        "x = torch.randn(3, 4)\n",
        "\n",
        "# View (compatible shape, contiguous tensor)\n",
        "y = x.view(3,4)  # shares memory with x\n",
        "\n",
        "# Reshape (incompatible shape, non-contiguous tensor)\n",
        "z = x.reshape(4, 3)  # creates a copy of x\n",
        "print(y)\n",
        "print(z)\n"
      ],
      "metadata": {
        "colab": {
          "base_uri": "https://localhost:8080/"
        },
        "id": "M6IX05QK2yae",
        "outputId": "430217ba-7dcb-484d-89ce-0e885be33ad6"
      },
      "execution_count": null,
      "outputs": [
        {
          "output_type": "stream",
          "name": "stdout",
          "text": [
            "tensor([[-1.3755, -0.5521,  2.2498, -0.2471],\n",
            "        [ 1.2465,  0.2241,  1.5626, -1.1535],\n",
            "        [ 0.8046,  0.3569,  0.2948, -0.9325]])\n",
            "tensor([[-1.3755, -0.5521,  2.2498],\n",
            "        [-0.2471,  1.2465,  0.2241],\n",
            "        [ 1.5626, -1.1535,  0.8046],\n",
            "        [ 0.3569,  0.2948, -0.9325]])\n"
          ]
        }
      ]
    },
    {
      "cell_type": "code",
      "source": [
        "my_torch3=torch.arange(10)\n",
        "my_torch3\n",
        "my_torch4=my_torch3.reshape(5,2)\n",
        "print(my_torch4)\n",
        "print(my_torch4[:2]) #first 2 row\n",
        "print(my_torch4[:,1]) #second column horizontally\n",
        "print(my_torch4[1:3,1]) #second and third row and second column\n",
        "print(my_torch4[:,1:]) #second column vertically"
      ],
      "metadata": {
        "colab": {
          "base_uri": "https://localhost:8080/"
        },
        "id": "WA2qsh_dDVM9",
        "outputId": "3a697115-4f92-4c4e-f5fb-f2d0c31b7fc6"
      },
      "execution_count": null,
      "outputs": [
        {
          "output_type": "stream",
          "name": "stdout",
          "text": [
            "tensor([[0, 1],\n",
            "        [2, 3],\n",
            "        [4, 5],\n",
            "        [6, 7],\n",
            "        [8, 9]])\n",
            "tensor([[0, 1],\n",
            "        [2, 3]])\n",
            "tensor([1, 3, 5, 7, 9])\n",
            "tensor([3, 5])\n",
            "tensor([[1],\n",
            "        [3],\n",
            "        [5],\n",
            "        [7],\n",
            "        [9]])\n"
          ]
        }
      ]
    },
    {
      "cell_type": "markdown",
      "source": [
        "math operations\n"
      ],
      "metadata": {
        "id": "RYTS6jFYE3Qm"
      }
    },
    {
      "cell_type": "code",
      "source": [
        "tensor_a= torch.tensor([1,2,3,4,5])\n",
        "tensor_b= torch.tensor([7,8,9,10,11])\n",
        "print(tensor_a)\n",
        "print(tensor_a+tensor_b)\n",
        "print(torch.add(tensor_a,tensor_b))"
      ],
      "metadata": {
        "colab": {
          "base_uri": "https://localhost:8080/"
        },
        "id": "IBqMv8O4E7Qi",
        "outputId": "2acbf0c0-6aea-4b3c-b008-69188b6cf301"
      },
      "execution_count": null,
      "outputs": [
        {
          "output_type": "stream",
          "name": "stdout",
          "text": [
            "tensor([1, 2, 3, 4, 5])\n",
            "tensor([ 8, 10, 12, 14, 16])\n",
            "tensor([ 8, 10, 12, 14, 16])\n"
          ]
        }
      ]
    }
  ]
}